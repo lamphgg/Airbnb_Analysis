{
  "cells": [
    {
      "cell_type": "markdown",
      "metadata": {
        "id": "view-in-github",
        "colab_type": "text"
      },
      "source": [
        "<a href=\"https://colab.research.google.com/github/lamphgg/Airbnb_Amsterdam/blob/main/numpy_project_code.ipynb\" target=\"_parent\"><img src=\"https://colab.research.google.com/assets/colab-badge.svg\" alt=\"Open In Colab\"/></a>"
      ]
    },
    {
      "cell_type": "markdown",
      "id": "f86691c8-d0b3-4c58-bd5b-dcfe1c2b5ff2",
      "metadata": {
        "id": "f86691c8-d0b3-4c58-bd5b-dcfe1c2b5ff2"
      },
      "source": [
        "## Downloading the Dataset\n"
      ]
    },
    {
      "cell_type": "code",
      "source": [
        "%%capture\n",
        "!pip install numpy pandas streamlit gdown currencyconverter"
      ],
      "metadata": {
        "id": "J3MB5-_L32bV"
      },
      "id": "J3MB5-_L32bV",
      "execution_count": null,
      "outputs": []
    },
    {
      "cell_type": "code",
      "source": [
        "import numpy as np\n",
        "\n",
        "# For readability purposes, we will disable scientific notation for numbers\n",
        "np.set_printoptions(suppress=True)"
      ],
      "metadata": {
        "id": "TCoESZJw7Xfs"
      },
      "id": "TCoESZJw7Xfs",
      "execution_count": null,
      "outputs": []
    },
    {
      "cell_type": "code",
      "execution_count": null,
      "id": "73934f9d-54f0-4c72-9bb3-7bfdb11419f2",
      "metadata": {
        "id": "73934f9d-54f0-4c72-9bb3-7bfdb11419f2"
      },
      "outputs": [],
      "source": [
        "import os\n",
        "import shutil\n",
        "\n",
        "import gdown\n",
        "from numpy import genfromtxt\n",
        "\n",
        "# Download file from Google Drive\n",
        "# This file is based on data from: http://insideairbnb.com/get-the-data/\n",
        "file_id_1 = \"13fyESiH1ZEnMV6eabAyhe20t4W6peEWK\"\n",
        "downloaded_file_1 = \"WK1_Airbnb_Amsterdam_listings_proj.csv\"\n",
        "\n",
        "# Download the file from Google Drive\n",
        "gdown.download(id=file_id_1, output=downloaded_file_1)"
      ]
    },
    {
      "cell_type": "markdown",
      "id": "f4f4a85f-ad1a-46c0-8978-a049fa91dd72",
      "metadata": {
        "id": "f4f4a85f-ad1a-46c0-8978-a049fa91dd72"
      },
      "source": [
        "## Preprocessing the Dataset\n"
      ]
    },
    {
      "cell_type": "code",
      "execution_count": null,
      "id": "887bc0b0-3a61-4cf4-a534-d9dee0f639b8",
      "metadata": {
        "id": "887bc0b0-3a61-4cf4-a534-d9dee0f639b8"
      },
      "outputs": [],
      "source": [
        "from numpy import genfromtxt\n",
        "\n",
        "my_data = genfromtxt(downloaded_file_1, delimiter='|',dtype='unicode')"
      ]
    },
    {
      "cell_type": "code",
      "source": [
        "print(my_data[:,:4])"
      ],
      "metadata": {
        "id": "IVG_WkJzg0KC"
      },
      "id": "IVG_WkJzg0KC",
      "execution_count": null,
      "outputs": []
    },
    {
      "cell_type": "code",
      "execution_count": null,
      "id": "62d32bbd-33e5-4dbe-b448-4f932c2119f2",
      "metadata": {
        "id": "62d32bbd-33e5-4dbe-b448-4f932c2119f2"
      },
      "outputs": [],
      "source": [
        "# Remove the first column and row\n",
        "matrix = my_data[1:,1:]\n",
        "matrix[:,:4]"
      ]
    },
    {
      "cell_type": "code",
      "execution_count": null,
      "id": "b7210723-75ef-48ce-b568-2c2aeebfb013",
      "metadata": {
        "id": "b7210723-75ef-48ce-b568-2c2aeebfb013"
      },
      "outputs": [],
      "source": [
        "# Shift the matrix by 90 degrees\n",
        "matrix = matrix.T\n",
        "print(matrix[:5,:])"
      ]
    },
    {
      "cell_type": "code",
      "execution_count": null,
      "id": "d912e33e-cc33-4e03-9163-7f061bac3711",
      "metadata": {
        "id": "d912e33e-cc33-4e03-9163-7f061bac3711"
      },
      "outputs": [],
      "source": [
        "# Remove the dollar sign and the comma\n",
        "matrix = np.char.replace(matrix, \"$\", \"\")\n",
        "matrix = np.char.replace(matrix, \",\", \"\")"
      ]
    },
    {
      "cell_type": "code",
      "source": [
        "# Check if the dollar sign is in our dataset\n",
        "matrix[(np.char.find(matrix, \"$\") > -1)]"
      ],
      "metadata": {
        "id": "zuicHsxMohnz"
      },
      "id": "zuicHsxMohnz",
      "execution_count": null,
      "outputs": []
    },
    {
      "cell_type": "code",
      "source": [
        "# Check if the comma sign is in our dataset\n",
        "matrix[(np.char.find(matrix, \",\") > -1)]"
      ],
      "metadata": {
        "id": "JjpYr2JZousV"
      },
      "id": "JjpYr2JZousV",
      "execution_count": null,
      "outputs": []
    },
    {
      "cell_type": "code",
      "execution_count": null,
      "id": "c78d95bf-bf7c-4342-9004-1f80616598ff",
      "metadata": {
        "id": "c78d95bf-bf7c-4342-9004-1f80616598ff"
      },
      "outputs": [],
      "source": [
        "# Change Unicode to float32\n",
        "matrix = np.float32(matrix)\n",
        "print(matrix[:5,:])"
      ]
    },
    {
      "cell_type": "markdown",
      "id": "16249349-8d37-4d24-b0c4-8a416aeda7ea",
      "metadata": {
        "id": "16249349-8d37-4d24-b0c4-8a416aeda7ea"
      },
      "source": [
        "## Convert currency"
      ]
    },
    {
      "cell_type": "code",
      "execution_count": null,
      "id": "93e4e8b3-6f19-4e31-a324-2bd94dc461a2",
      "metadata": {
        "id": "93e4e8b3-6f19-4e31-a324-2bd94dc461a2"
      },
      "outputs": [],
      "source": [
        "from currency_converter import CurrencyConverter\n",
        "\n",
        "cc = CurrencyConverter()\n",
        "\n",
        "# Entries: airbnb_id, price_usd, latitude, longitude\n",
        "print(matrix[:5,:])"
      ]
    },
    {
      "cell_type": "code",
      "execution_count": null,
      "id": "cf6d4cdd-ae46-4be5-9204-537f45d9b4f4",
      "metadata": {
        "id": "cf6d4cdd-ae46-4be5-9204-537f45d9b4f4"
      },
      "outputs": [],
      "source": [
        "print('\\tSecond column is:\\n', matrix[:, 1])"
      ]
    },
    {
      "cell_type": "code",
      "source": [
        "cc.currencies"
      ],
      "metadata": {
        "id": "KhehQKENWBLm"
      },
      "id": "KhehQKENWBLm",
      "execution_count": null,
      "outputs": []
    },
    {
      "cell_type": "markdown",
      "source": [
        "#### Converting to EUR"
      ],
      "metadata": {
        "id": "l9eCO9c_u_hT"
      },
      "id": "l9eCO9c_u_hT"
    },
    {
      "cell_type": "code",
      "execution_count": null,
      "id": "3b1b9df8-6b29-41a8-8bce-1a51bb710ec9",
      "metadata": {
        "id": "3b1b9df8-6b29-41a8-8bce-1a51bb710ec9"
      },
      "outputs": [],
      "source": [
        "eur_rate = cc.convert(1,'USD','EUR')\n",
        "\n",
        "# Multiply the dollar column by EUR currency\n",
        "matrix[:,1] = matrix[:,1] * eur_rate\n",
        "print(matrix[:,1])"
      ]
    },
    {
      "cell_type": "code",
      "execution_count": null,
      "id": "b9b77c45-ad45-424d-a826-91cc86712df6",
      "metadata": {
        "id": "b9b77c45-ad45-424d-a826-91cc86712df6"
      },
      "outputs": [],
      "source": [
        "# Multiply the dollar column by the inflation percentage (1.00 + inflation)\n",
        "matrix[:,1] = matrix[:,1] * (1.00 + 0.07)\n",
        "matrix[:,1]"
      ]
    },
    {
      "cell_type": "code",
      "execution_count": null,
      "id": "4f62b24b-fb75-406d-92f0-033e1afec123",
      "metadata": {
        "id": "4f62b24b-fb75-406d-92f0-033e1afec123"
      },
      "outputs": [],
      "source": [
        "# Round down the new currency column to 2 decimals\n",
        "matrix[:,1] = np.round_(matrix[:,1], decimals=2)\n",
        "matrix[:,1]"
      ]
    },
    {
      "cell_type": "markdown",
      "id": "08eb3f54-9af1-483a-b6ac-354d6c77d77e",
      "metadata": {
        "id": "08eb3f54-9af1-483a-b6ac-354d6c77d77e"
      },
      "source": [
        "#### Choose a location: Van Gogh Museum\n",
        "\n",
        "I get the coordinates from [here](https://www.google.com/search?q=coordinates+of+van+gogh+museum+amsterdam&rlz=1C1ONGR_enUS1042US1042&oq=coordinates+of+van+gogh+museum+amsterdam&aqs=chrome..69i57j0i22i30i625j0i390l3.5845j0j7&sourceid=chrome&ie=UTF-8)\n",
        "\n",
        "\n"
      ]
    },
    {
      "cell_type": "code",
      "execution_count": null,
      "id": "61014b50-cceb-4f75-9d4f-639c197eec52",
      "metadata": {
        "id": "61014b50-cceb-4f75-9d4f-639c197eec52"
      },
      "outputs": [],
      "source": [
        "#Coordinates of Van Gogh Museum\n",
        "latitude = 52.3584\n",
        "longitude = 4.8811"
      ]
    },
    {
      "cell_type": "code",
      "execution_count": null,
      "id": "b8911e6f-321f-4d93-9e8a-feb558fb2502",
      "metadata": {
        "id": "b8911e6f-321f-4d93-9e8a-feb558fb2502"
      },
      "outputs": [],
      "source": [
        "import math\n",
        "\n",
        "def from_location_to_airbnb_listing_in_meters(lat1: float, lon1: float, lat2: list, lon2: list):\n",
        "    # Source: https://community.esri.com/t5/coordinate-reference-systems-blog\n",
        "    # /distance-on-a-sphere-the-haversine-formula/ba-p/902128\n",
        "\n",
        "    R = 6371000  # Radius of Earth in meters\n",
        "    phi_1 = math.radians(lat1)\n",
        "    phi_2 = math.radians(lat2)\n",
        "\n",
        "    delta_phi = math.radians(lat2 - lat1)\n",
        "    delta_lambda = math.radians(lon2 - lon1)\n",
        "\n",
        "    a = (\n",
        "        math.sin(delta_phi / 2.0) ** 2\n",
        "        + math.cos(phi_1) * math.cos(phi_2) * math.sin(delta_lambda / 2.0) ** 2\n",
        "    )\n",
        "\n",
        "    c = 2 * math.atan2(math.sqrt(a), math.sqrt(1 - a))\n",
        "\n",
        "    meters = R * c  # Output distance in meters\n",
        "\n",
        "    return round(meters, 0)"
      ]
    },
    {
      "cell_type": "code",
      "execution_count": null,
      "id": "997ec8fa-5cc1-4fd3-ae01-fd53e0ffc0d6",
      "metadata": {
        "id": "997ec8fa-5cc1-4fd3-ae01-fd53e0ffc0d6"
      },
      "outputs": [],
      "source": [
        "# Create a loop or vectorized way to calculate the distance,\n",
        "# going over all latitude and longitude entries in the dataset\n",
        "\n",
        "vectorizing_function = np.vectorize(from_location_to_airbnb_listing_in_meters)\n",
        "distance = vectorizing_function(latitude, longitude, matrix[:,2], matrix[:,3])"
      ]
    },
    {
      "cell_type": "code",
      "source": [
        "%%timeit -r 4 -n 100\n",
        "\n",
        "# Allow a Python function to be used in a (semi-)vectorized way\n",
        "conv_to_meters = np.vectorize(from_location_to_airbnb_listing_in_meters)\n",
        "\n",
        "# Apply the function, use timeit\n",
        "conv_to_meters(latitude, longitude, matrix[:, 2], matrix[:, 3])"
      ],
      "metadata": {
        "id": "m1oqM9C2D4sJ"
      },
      "id": "m1oqM9C2D4sJ",
      "execution_count": null,
      "outputs": []
    },
    {
      "cell_type": "markdown",
      "id": "dc1d3c93-b298-4d7f-9382-5d97efd7d675",
      "metadata": {
        "id": "dc1d3c93-b298-4d7f-9382-5d97efd7d675"
      },
      "source": [
        "## Prep the Dataset for Download!\n",
        "\n",
        "\n",
        "\n"
      ]
    },
    {
      "cell_type": "code",
      "execution_count": null,
      "id": "587b2c11-6b59-4075-b002-be8516c62b2d",
      "metadata": {
        "id": "587b2c11-6b59-4075-b002-be8516c62b2d"
      },
      "outputs": [],
      "source": [
        "# Run the previous method\n",
        "meters = from_location_to_airbnb_listing_in_meters(\n",
        "    latitude, longitude, matrix[:, 2], matrix[:, 3]\n",
        ")\n",
        "\n",
        "# Add an axis to make concatenation possible\n",
        "meters = meters.reshape(-1, 1)\n",
        "\n",
        "# Append the distance in meters to the matrix\n",
        "matrix = np.concatenate((matrix, meters), axis=1)"
      ]
    },
    {
      "cell_type": "code",
      "execution_count": null,
      "id": "e60a7c93-fe1c-46d9-9e63-0e8635b0966d",
      "metadata": {
        "id": "e60a7c93-fe1c-46d9-9e63-0e8635b0966d"
      },
      "outputs": [],
      "source": [
        "# Append a color to the matrix\n",
        "colors = np.zeros(meters.shape)\n",
        "matrix = np.concatenate((matrix, colors), axis=1)\n",
        "\n",
        "# Append our entry to the matrix\n",
        "fav_entry = np.array([1, 0, 52.3600, 4.8852, 0, 1]).reshape(1, -1) # Change coordinates to your favorite location\n",
        "matrix = np.concatenate((fav_entry, matrix), axis=0)\n",
        "\n",
        "# Entries: airbnb_id, price, latitude, longitude,\n",
        "# meters from favorite point, color\n",
        "matrix[:5, :]"
      ]
    },
    {
      "cell_type": "code",
      "execution_count": null,
      "id": "2c9f02e3-9af7-4eb0-845d-96748114c5b3",
      "metadata": {
        "id": "2c9f02e3-9af7-4eb0-845d-96748114c5b3"
      },
      "outputs": [],
      "source": [
        "# Export the data to use in the primer for next week\n",
        "np.savetxt(\"WK1_Airbnb_Amsterdam_listings_proj_solution.csv\", matrix, delimiter=\",\")"
      ]
    }
  ],
  "metadata": {
    "kernelspec": {
      "display_name": "Python 3 (ipykernel)",
      "language": "python",
      "name": "python3"
    },
    "language_info": {
      "codemirror_mode": {
        "name": "ipython",
        "version": 3
      },
      "file_extension": ".py",
      "mimetype": "text/x-python",
      "name": "python",
      "nbconvert_exporter": "python",
      "pygments_lexer": "ipython3",
      "version": "3.10.4"
    },
    "colab": {
      "provenance": [],
      "include_colab_link": true
    }
  },
  "nbformat": 4,
  "nbformat_minor": 5
}